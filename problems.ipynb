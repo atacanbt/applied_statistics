{
 "cells": [
  {
   "cell_type": "markdown",
   "id": "274f89f1",
   "metadata": {},
   "source": [
    "# Problems"
   ]
  }
 ],
 "metadata": {
  "language_info": {
   "name": "python"
  }
 },
 "nbformat": 4,
 "nbformat_minor": 5
}
